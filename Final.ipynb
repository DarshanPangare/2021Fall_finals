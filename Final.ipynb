{
 "cells": [
  {
   "cell_type": "code",
   "execution_count": 1,
   "id": "d2dfb25c",
   "metadata": {
    "scrolled": false
   },
   "outputs": [],
   "source": [
    "import pandas as pd\n",
    "pd.options.mode.chained_assignment = None  # default='warn'\n",
    "import numpy as np\n",
    "import matplotlib.pyplot as plt\n",
    "import seaborn as sns\n",
    "from scipy.stats import pearsonr\n",
    "from data_analysis import get_hyp1_data, plot_data, calc_corr"
   ]
  },
  {
   "cell_type": "markdown",
   "id": "3f3da3b6",
   "metadata": {},
   "source": [
    "## Hypothesis 1: The hike in the price of food for developing countries is low as compared to underdeveloped countries."
   ]
  },
  {
   "cell_type": "markdown",
   "id": "6da48842",
   "metadata": {},
   "source": [
    "### Read the food prices dataset"
   ]
  },
  {
   "cell_type": "code",
   "execution_count": 2,
   "id": "f1071c27",
   "metadata": {},
   "outputs": [
    {
     "data": {
      "text/html": [
       "<div>\n",
       "<style scoped>\n",
       "    .dataframe tbody tr th:only-of-type {\n",
       "        vertical-align: middle;\n",
       "    }\n",
       "\n",
       "    .dataframe tbody tr th {\n",
       "        vertical-align: top;\n",
       "    }\n",
       "\n",
       "    .dataframe thead th {\n",
       "        text-align: right;\n",
       "    }\n",
       "</style>\n",
       "<table border=\"1\" class=\"dataframe\">\n",
       "  <thead>\n",
       "    <tr style=\"text-align: right;\">\n",
       "      <th></th>\n",
       "      <th>country_name</th>\n",
       "      <th>commodity_name</th>\n",
       "      <th>month</th>\n",
       "      <th>year</th>\n",
       "      <th>price</th>\n",
       "      <th>country_status</th>\n",
       "      <th>price_factor</th>\n",
       "      <th>usd_price</th>\n",
       "    </tr>\n",
       "  </thead>\n",
       "  <tbody>\n",
       "    <tr>\n",
       "      <th>0</th>\n",
       "      <td>Afghanistan</td>\n",
       "      <td>Bread</td>\n",
       "      <td>1</td>\n",
       "      <td>2014</td>\n",
       "      <td>50.0</td>\n",
       "      <td>Developing</td>\n",
       "      <td>0.0100</td>\n",
       "      <td>0.50000</td>\n",
       "    </tr>\n",
       "    <tr>\n",
       "      <th>1</th>\n",
       "      <td>Afghanistan</td>\n",
       "      <td>Bread</td>\n",
       "      <td>2</td>\n",
       "      <td>2014</td>\n",
       "      <td>50.0</td>\n",
       "      <td>Developing</td>\n",
       "      <td>0.0100</td>\n",
       "      <td>0.50000</td>\n",
       "    </tr>\n",
       "    <tr>\n",
       "      <th>2</th>\n",
       "      <td>Afghanistan</td>\n",
       "      <td>Bread</td>\n",
       "      <td>3</td>\n",
       "      <td>2014</td>\n",
       "      <td>50.0</td>\n",
       "      <td>Developing</td>\n",
       "      <td>0.0100</td>\n",
       "      <td>0.50000</td>\n",
       "    </tr>\n",
       "    <tr>\n",
       "      <th>3</th>\n",
       "      <td>Afghanistan</td>\n",
       "      <td>Bread</td>\n",
       "      <td>4</td>\n",
       "      <td>2014</td>\n",
       "      <td>50.0</td>\n",
       "      <td>Developing</td>\n",
       "      <td>0.0100</td>\n",
       "      <td>0.50000</td>\n",
       "    </tr>\n",
       "    <tr>\n",
       "      <th>4</th>\n",
       "      <td>Afghanistan</td>\n",
       "      <td>Bread</td>\n",
       "      <td>5</td>\n",
       "      <td>2014</td>\n",
       "      <td>50.0</td>\n",
       "      <td>Developing</td>\n",
       "      <td>0.0100</td>\n",
       "      <td>0.50000</td>\n",
       "    </tr>\n",
       "    <tr>\n",
       "      <th>...</th>\n",
       "      <td>...</td>\n",
       "      <td>...</td>\n",
       "      <td>...</td>\n",
       "      <td>...</td>\n",
       "      <td>...</td>\n",
       "      <td>...</td>\n",
       "      <td>...</td>\n",
       "      <td>...</td>\n",
       "    </tr>\n",
       "    <tr>\n",
       "      <th>743909</th>\n",
       "      <td>South Sudan</td>\n",
       "      <td>Sesame</td>\n",
       "      <td>5</td>\n",
       "      <td>2017</td>\n",
       "      <td>400.0</td>\n",
       "      <td>Underdeveloped</td>\n",
       "      <td>0.0023</td>\n",
       "      <td>0.92000</td>\n",
       "    </tr>\n",
       "    <tr>\n",
       "      <th>743910</th>\n",
       "      <td>South Sudan</td>\n",
       "      <td>Fuel (diesel)</td>\n",
       "      <td>2</td>\n",
       "      <td>2017</td>\n",
       "      <td>12.5</td>\n",
       "      <td>Underdeveloped</td>\n",
       "      <td>0.0023</td>\n",
       "      <td>0.02875</td>\n",
       "    </tr>\n",
       "    <tr>\n",
       "      <th>743911</th>\n",
       "      <td>South Sudan</td>\n",
       "      <td>Fuel (diesel)</td>\n",
       "      <td>3</td>\n",
       "      <td>2017</td>\n",
       "      <td>95.0</td>\n",
       "      <td>Underdeveloped</td>\n",
       "      <td>0.0023</td>\n",
       "      <td>0.21850</td>\n",
       "    </tr>\n",
       "    <tr>\n",
       "      <th>743912</th>\n",
       "      <td>South Sudan</td>\n",
       "      <td>Fuel (petrol-gasoline)</td>\n",
       "      <td>2</td>\n",
       "      <td>2017</td>\n",
       "      <td>95.0</td>\n",
       "      <td>Underdeveloped</td>\n",
       "      <td>0.0023</td>\n",
       "      <td>0.21850</td>\n",
       "    </tr>\n",
       "    <tr>\n",
       "      <th>743913</th>\n",
       "      <td>South Sudan</td>\n",
       "      <td>Fuel (petrol-gasoline)</td>\n",
       "      <td>3</td>\n",
       "      <td>2017</td>\n",
       "      <td>93.7</td>\n",
       "      <td>Underdeveloped</td>\n",
       "      <td>0.0023</td>\n",
       "      <td>0.21551</td>\n",
       "    </tr>\n",
       "  </tbody>\n",
       "</table>\n",
       "<p>743914 rows × 8 columns</p>\n",
       "</div>"
      ],
      "text/plain": [
       "       country_name          commodity_name  month  year  price  \\\n",
       "0       Afghanistan                   Bread      1  2014   50.0   \n",
       "1       Afghanistan                   Bread      2  2014   50.0   \n",
       "2       Afghanistan                   Bread      3  2014   50.0   \n",
       "3       Afghanistan                   Bread      4  2014   50.0   \n",
       "4       Afghanistan                   Bread      5  2014   50.0   \n",
       "...             ...                     ...    ...   ...    ...   \n",
       "743909  South Sudan                  Sesame      5  2017  400.0   \n",
       "743910  South Sudan           Fuel (diesel)      2  2017   12.5   \n",
       "743911  South Sudan           Fuel (diesel)      3  2017   95.0   \n",
       "743912  South Sudan  Fuel (petrol-gasoline)      2  2017   95.0   \n",
       "743913  South Sudan  Fuel (petrol-gasoline)      3  2017   93.7   \n",
       "\n",
       "        country_status  price_factor  usd_price  \n",
       "0           Developing        0.0100    0.50000  \n",
       "1           Developing        0.0100    0.50000  \n",
       "2           Developing        0.0100    0.50000  \n",
       "3           Developing        0.0100    0.50000  \n",
       "4           Developing        0.0100    0.50000  \n",
       "...                ...           ...        ...  \n",
       "743909  Underdeveloped        0.0023    0.92000  \n",
       "743910  Underdeveloped        0.0023    0.02875  \n",
       "743911  Underdeveloped        0.0023    0.21850  \n",
       "743912  Underdeveloped        0.0023    0.21850  \n",
       "743913  Underdeveloped        0.0023    0.21551  \n",
       "\n",
       "[743914 rows x 8 columns]"
      ]
     },
     "execution_count": 2,
     "metadata": {},
     "output_type": "execute_result"
    }
   ],
   "source": [
    "combined_data = get_hyp1_data()\n",
    "combined_data"
   ]
  },
  {
   "cell_type": "markdown",
   "id": "6301b8be",
   "metadata": {},
   "source": [
    "### Pearson correlation coefficient and p-value for testing non-correlation\n",
    "\n",
    "<font size = '3'>The Pearson correlation coefficient measures the linear relationship between two datasets. The calculation of the p-value relies on the assumption that each dataset is normally distributed. Like other correlation coefficients, this one varies between -1 and +1 with 0 implying no correlation. Correlations of -1 or +1 imply an exact linear relationship. Positive correlations imply that as x increases, so does y. Negative correlations imply that as x increases, y decreases.\n",
    "\n",
    "The p-value roughly indicates the probability of an uncorrelated system producing datasets that have a Pearson correlation at least as extreme as the one computed from these datasets. (https://docs.scipy.org/doc/scipy/reference/generated/scipy.stats.pearsonr.html)</font>"
   ]
  },
  {
   "cell_type": "markdown",
   "id": "6d81ee16",
   "metadata": {},
   "source": [
    "## Now, lets compare the price of Bread for Kenya (Developing) and Gambia (Underdeveloped)"
   ]
  },
  {
   "cell_type": "code",
   "execution_count": 3,
   "id": "fc512b34",
   "metadata": {
    "scrolled": false
   },
   "outputs": [
    {
     "ename": "NameError",
     "evalue": "name 'selective_data' is not defined",
     "output_type": "error",
     "traceback": [
      "\u001b[0;31m---------------------------------------------------------------------------\u001b[0m",
      "\u001b[0;31mNameError\u001b[0m                                 Traceback (most recent call last)",
      "\u001b[0;32m<ipython-input-3-ec88522daa94>\u001b[0m in \u001b[0;36m<module>\u001b[0;34m\u001b[0m\n\u001b[0;32m----> 1\u001b[0;31m \u001b[0mplot_data\u001b[0m\u001b[0;34m(\u001b[0m\u001b[0mcombined_data\u001b[0m\u001b[0;34m,\u001b[0m \u001b[0;34m\"Kenya\"\u001b[0m\u001b[0;34m,\u001b[0m \u001b[0;34m\"Gambia\"\u001b[0m\u001b[0;34m,\u001b[0m \u001b[0;34m\"Bread\"\u001b[0m\u001b[0;34m)\u001b[0m\u001b[0;34m\u001b[0m\u001b[0;34m\u001b[0m\u001b[0m\n\u001b[0m\u001b[1;32m      2\u001b[0m \u001b[0mcalc_corr\u001b[0m\u001b[0;34m(\u001b[0m\u001b[0mcombined_data\u001b[0m\u001b[0;34m,\u001b[0m \u001b[0;34m\"Kenya\"\u001b[0m\u001b[0;34m,\u001b[0m \u001b[0;34m\"Gambia\"\u001b[0m\u001b[0;34m,\u001b[0m \u001b[0;34m\"Bread\"\u001b[0m\u001b[0;34m)\u001b[0m\u001b[0;34m\u001b[0m\u001b[0;34m\u001b[0m\u001b[0m\n",
      "\u001b[0;32m~/Desktop/SEM 1/IS597PR/2021Fall_finals/data_analysis.py\u001b[0m in \u001b[0;36mplot_data\u001b[0;34m(combined_data, country1, country2, commodity)\u001b[0m\n\u001b[1;32m     60\u001b[0m     \u001b[0;34m:\u001b[0m\u001b[0;32mreturn\u001b[0m\u001b[0;34m:\u001b[0m \u001b[0mPlots\u001b[0m \u001b[0ma\u001b[0m \u001b[0mline\u001b[0m \u001b[0mgraph\u001b[0m\u001b[0;34m\u001b[0m\u001b[0;34m\u001b[0m\u001b[0m\n\u001b[1;32m     61\u001b[0m     \"\"\"\n\u001b[0;32m---> 62\u001b[0;31m     \u001b[0mnew\u001b[0m \u001b[0;34m=\u001b[0m \u001b[0mselective_data\u001b[0m\u001b[0;34m.\u001b[0m\u001b[0mgroupby\u001b[0m\u001b[0;34m(\u001b[0m\u001b[0;34m[\u001b[0m\u001b[0;34m'country_name'\u001b[0m\u001b[0;34m,\u001b[0m \u001b[0;34m'year'\u001b[0m\u001b[0;34m]\u001b[0m\u001b[0;34m)\u001b[0m\u001b[0;34m[\u001b[0m\u001b[0;34m'usd_price'\u001b[0m\u001b[0;34m]\u001b[0m\u001b[0;34m.\u001b[0m\u001b[0mmean\u001b[0m\u001b[0;34m(\u001b[0m\u001b[0;34m)\u001b[0m\u001b[0;34m.\u001b[0m\u001b[0mreset_index\u001b[0m\u001b[0;34m(\u001b[0m\u001b[0;34m)\u001b[0m\u001b[0;34m\u001b[0m\u001b[0;34m\u001b[0m\u001b[0m\n\u001b[0m\u001b[1;32m     63\u001b[0m     \u001b[0mnew\u001b[0m\u001b[0;34m[\u001b[0m\u001b[0;34m'pct'\u001b[0m\u001b[0;34m]\u001b[0m \u001b[0;34m=\u001b[0m \u001b[0mnew\u001b[0m\u001b[0;34m[\u001b[0m\u001b[0;34m'usd_price'\u001b[0m\u001b[0;34m]\u001b[0m\u001b[0;34m.\u001b[0m\u001b[0mpct_change\u001b[0m\u001b[0;34m(\u001b[0m\u001b[0;34m)\u001b[0m\u001b[0;34m\u001b[0m\u001b[0;34m\u001b[0m\u001b[0m\n\u001b[1;32m     64\u001b[0m     \u001b[0mnew\u001b[0m\u001b[0;34m.\u001b[0m\u001b[0msort_values\u001b[0m\u001b[0;34m(\u001b[0m\u001b[0mby\u001b[0m\u001b[0;34m=\u001b[0m\u001b[0;34m'year'\u001b[0m\u001b[0;34m,\u001b[0m \u001b[0minplace\u001b[0m\u001b[0;34m=\u001b[0m\u001b[0;32mTrue\u001b[0m\u001b[0;34m)\u001b[0m\u001b[0;34m\u001b[0m\u001b[0;34m\u001b[0m\u001b[0m\n",
      "\u001b[0;31mNameError\u001b[0m: name 'selective_data' is not defined"
     ]
    }
   ],
   "source": [
    "plot_data(combined_data, \"Kenya\", \"Gambia\", \"Bread\")\n",
    "calc_corr(combined_data, \"Kenya\", \"Gambia\", \"Bread\")"
   ]
  },
  {
   "cell_type": "markdown",
   "id": "5b7c23b9",
   "metadata": {},
   "source": [
    "<font size = '3'>Here, Although the graphs have a positive slope from the years 2013 to 2015, we can observe a negative slope in the price of Bread in Kenya for the year 2015-2016. Furthermore, the correlation coefficient is 0.08. As the correlation coefficient is close to zero, we can conclude that there is no correlation between the price of bread between the two countries.</font>"
   ]
  },
  {
   "cell_type": "markdown",
   "id": "efdce504",
   "metadata": {},
   "source": [
    "# To conduct further analysis, let us test four more countries for the same commodity i.e Bread.\n",
    "### First we consider, Tajikistan (Developing) and Guinea (Underdeveloped)"
   ]
  },
  {
   "cell_type": "code",
   "execution_count": null,
   "id": "72945b0d",
   "metadata": {
    "scrolled": false
   },
   "outputs": [],
   "source": [
    "plot_data(combined_data, \"Tajikistan\", \"Guinea\", \"Bread\")\n",
    "calc_corr(combined_data, \"Tajikistan\", \"Guinea\", \"Bread\")"
   ]
  },
  {
   "cell_type": "markdown",
   "id": "89bcc85a",
   "metadata": {},
   "source": [
    "### Tajikistan (Developing) and Kyrgyzstan (Underdeveloped)"
   ]
  },
  {
   "cell_type": "code",
   "execution_count": null,
   "id": "3eea6b51",
   "metadata": {
    "scrolled": false
   },
   "outputs": [],
   "source": [
    "plot_data(combined_data, \"Tajikistan\", \"Kyrgyzstan\", \"Bread\")\n",
    "calc_corr(combined_data, \"Tajikistan\", \"Kyrgyzstan\", \"Bread\")"
   ]
  },
  {
   "cell_type": "markdown",
   "id": "29105f88",
   "metadata": {},
   "source": [
    "<font size = '3'>Lets consider the first graph i.e Tajikistan (Developing) and Guinea (Underdeveloped):\n",
    "    \n",
    "The price of Bread in Tajikistan has observed slight up and down variation over the years. On the other hand, the price of Bread in Guinea reached a peak of ~0.32 and a bottom of ~0.26 over the same period.\n",
    "\n",
    "Moving on to the next graph i.e Tajikistan (Developing) and Kyrgyzstan (Underdeveloped):\n",
    "\n",
    "Kyrgyzstan has a steep positive slope from the years 2013 to 2015. For the same period, Tajikistan also has a positive slope, but the value of slope is comparatively less.\n",
    "\n",
    "Lastly, the correlation coefficient for the two graphs is -0.16 and 0.75 respectively. Although there is a possibility of correlation between the price of Bread for Tajikistan (Developing) and Kyrgyzstan (Underdeveloped) in the future, the observed variation and uncertainty visible in the three graphs clearly indicate that the increase/decrease of bread prices is unrelated.</font>"
   ]
  },
  {
   "cell_type": "markdown",
   "id": "dfd7dc4a",
   "metadata": {},
   "source": [
    "\n",
    "# Now, to further examine the trend, lets test our analysis for a different commodity, i.e Wheat"
   ]
  },
  {
   "cell_type": "markdown",
   "id": "deedcf4f",
   "metadata": {},
   "source": [
    "### Comparing price of Wheat for Afghanistan (Developing) and Pakistan (Underdeveloped)"
   ]
  },
  {
   "cell_type": "code",
   "execution_count": null,
   "id": "51394626",
   "metadata": {
    "scrolled": false
   },
   "outputs": [],
   "source": [
    "plot_data(combined_data, \"Afghanistan\", \"Pakistan\", \"Wheat\")\n",
    "calc_corr(combined_data, \"Afghanistan\", \"Pakistan\", \"Wheat\")"
   ]
  },
  {
   "cell_type": "markdown",
   "id": "6faf6992",
   "metadata": {},
   "source": [
    "<font size = '3'>For the initial years of the above graph, the lines follow a same trend, which aligns to our said hypothesis. But if we observe the year 2015-2016, price of Wheat increases in Afghanistan whereas it stays the same in Pakistan. Lastly, for the year 2016-2017, the price of wheat follows an opposite trend to what was seen earlier. The commodity price decreases in Afghanistan whereas it increases in Pakistan. Lastly, the correlation coefficient is 0.3, therefore the price of wheat for the two countries are not related.</font>"
   ]
  },
  {
   "cell_type": "markdown",
   "id": "ea9e0dc8",
   "metadata": {},
   "source": [
    "### Comparing price of Wheat for Nepal (Developing) and Ethiopia (Underdeveloped)"
   ]
  },
  {
   "cell_type": "code",
   "execution_count": null,
   "id": "620c211b",
   "metadata": {
    "scrolled": false
   },
   "outputs": [],
   "source": [
    "plot_data(combined_data, \"Nepal\", \"Ethiopia\", \"Wheat\")\n",
    "calc_corr(combined_data, \"Nepal\", \"Ethiopia\", \"Wheat\")"
   ]
  },
  {
   "cell_type": "markdown",
   "id": "e039b117",
   "metadata": {},
   "source": [
    "### Comparing price of Wheat for India (Developing) and Pakistan (Underdeveloped)"
   ]
  },
  {
   "cell_type": "code",
   "execution_count": null,
   "id": "3683f06f",
   "metadata": {
    "scrolled": false
   },
   "outputs": [],
   "source": [
    "plot_data(combined_data, \"India\", \"Pakistan\", \"Wheat\")\n",
    "calc_corr(combined_data, \"India\", \"Pakistan\", \"Wheat\")"
   ]
  },
  {
   "cell_type": "markdown",
   "id": "11d38bf1",
   "metadata": {},
   "source": [
    "<font size = '3'>Let us consider the first graph i.e Nepal (Developing) and Ethiopia (Underdeveloped):\n",
    "    \n",
    "On one hand the price of Wheat was highly stable in Nepal while on the other hand the price of wheat in Ethiopia observed several ups and downs.\n",
    "\n",
    "Similarly, in the above graph i.e India (Developing) and Pakistan (Underdeveloped):\n",
    "    \n",
    "The two countries follow a similar trend for the year 2013-2014 but for the year 2014-2015 they follow an opposite pattern. For the year 2014-2015, the price of wheat in India goes from ~0.27 USD to ~0.28 USD whereas in Pakistan the same goes from ~0.23 USD to ~0.19 USD. This clearly indicates that the food prices in the two countries are not related to each other.\n",
    "Laslty, the correlation coefficient for the two graphs is -0.17 and 0.22 respectively, this confirms our observation.</font>"
   ]
  },
  {
   "cell_type": "markdown",
   "id": "c51fb514",
   "metadata": {},
   "source": [
    "### From the above analysis, it is clearly evident that the food prices in Developing and Underdeveloped countries are not related.\n",
    "# Therefore we reject our hypothesis"
   ]
  },
  {
   "cell_type": "code",
   "execution_count": null,
   "id": "ea0ef390",
   "metadata": {},
   "outputs": [],
   "source": []
  }
 ],
 "metadata": {
  "kernelspec": {
   "display_name": "Python 3",
   "language": "python",
   "name": "python3"
  },
  "language_info": {
   "codemirror_mode": {
    "name": "ipython",
    "version": 3
   },
   "file_extension": ".py",
   "mimetype": "text/x-python",
   "name": "python",
   "nbconvert_exporter": "python",
   "pygments_lexer": "ipython3",
   "version": "3.8.8"
  }
 },
 "nbformat": 4,
 "nbformat_minor": 5
}
